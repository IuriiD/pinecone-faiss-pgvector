{
  "nbformat": 4,
  "nbformat_minor": 0,
  "metadata": {
    "colab": {
      "provenance": []
    },
    "kernelspec": {
      "name": "python3",
      "display_name": "Python 3"
    },
    "language_info": {
      "name": "python"
    }
  },
  "cells": [
    {
      "cell_type": "markdown",
      "source": [
        "__“DRY” (Do Not Repeat Yourself) - semantic search using with Pinecone & OpenAI Embeddings__\n",
        "![image.png](data:image/png;base64,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)"
      ],
      "metadata": {
        "id": "1upoUqMn0KK8"
      }
    },
    {
      "cell_type": "code",
      "execution_count": null,
      "metadata": {
        "id": "WfJZA64q0H7l"
      },
      "outputs": [],
      "source": [
        "# Set the needed environment variables\n",
        "# \"env\" file example:\n",
        "'''\n",
        "OPENAI_API_KEY=\"<get at openai.com, e.g. sk-UuesomethingSomethingTICeE>\"\"\n",
        "OPENAI_ORG=<get at openai.com, e.g. org-hdBsOmEtHiNg4ws>\n",
        "PINECONE_ENVIRONMENT=<get at pinecone.io, e.g. us-west1-gcp-free\n",
        "PINECONE_API_KEY=<get at pinecone.io, some uuid-format string>\n",
        "PINECONE_INDEX_NAME=<pinecone index name, e.g. dry>\n",
        "SIMILARITY_SEARCH_LIMIT=0.9\n",
        "TOP_K=5\n",
        "'''\n",
        "\n",
        "import os\n",
        "env_vars = !cat env\n",
        "for var in env_vars:\n",
        "  key, value = var.split('=')\n",
        "  os.environ[key] = value\n",
        "\n",
        "print(os.getenv('PINECONE_INDEX_NAME', 'pinecone index name not found - check if the env variables are set correctly'))"
      ]
    },
    {
      "cell_type": "code",
      "source": [
        "# API integrations initialisation (shared code)\n",
        "%pip install tiktoken\n",
        "%pip install openai\n",
        "%pip install pinecone-client\n",
        "\n",
        "import os\n",
        "import tiktoken\n",
        "import openai\n",
        "import pinecone\n",
        "\n",
        "tokenizer = tiktoken.get_encoding('gpt2')\n",
        "\n",
        "openai.api_key = os.getenv('OPENAI_API_KEY')\n",
        "openai.organization = os.getenv('OPENAI_ORG')\n",
        "\n",
        "PINECONE_INDEX_NAME = os.getenv('PINECONE_INDEX_NAME', 'dry')\n",
        "EMBEDDINGS_MODEL = \"text-embedding-ada-002\"\n",
        "INDEX_DIMENSIONS = 1536 # specific for \"text-embedding-ada-002\" model\n",
        "\n",
        "pinecone.init(\n",
        "    api_key = os.getenv('PINECONE_API_KEY'),\n",
        "    environment = os.getenv('PINECONE_ENVIRONMENT', 'us-west1-gcp-free')\n",
        ")\n",
        "\n",
        "# check requests to OpenAI\n",
        "print('OpenAI Engines: ', openai.Engine.list())\n",
        "\n",
        "# check requests to Pinecone by listing the indexes\n",
        "print('Pinecone Indexes: ', pinecone.list_indexes())\n",
        "\n",
        "# check if PINECONE_INDEX_NAME index already exists (only create index if not)\n",
        "if PINECONE_INDEX_NAME not in pinecone.list_indexes():\n",
        "    pinecone.create_index(PINECONE_INDEX_NAME, dimension=INDEX_DIMENSIONS)\n",
        "\n",
        "# connect to the Pinecone index\n",
        "index = pinecone.Index(PINECONE_INDEX_NAME)"
      ],
      "metadata": {
        "id": "62xPccw92vYp"
      },
      "execution_count": null,
      "outputs": []
    },
    {
      "cell_type": "code",
      "source": [
        "# Test messages to check saving vectors and metadata to the database\n",
        "test_messages = [\n",
        "    {\n",
        "      'text': 'Доброго вечора, де можна в Любляні чи Ново место поміняти різну валюту на евро ? (Не долари) підскажіть, будь ласка',\n",
        "      'author': 'author-1',\n",
        "      'date': '2023-06-04T10:45:52Z',\n",
        "      'url': 'https://t.me/somechat/1/79738'\n",
        "    },\n",
        "    {\n",
        "      'text': 'Наразі обмін валюти тільки в банках. Пошта раніше міняла, зараз - ні.',\n",
        "      'author': 'author-2',\n",
        "      'date': '2023-06-04T10:50:52Z',\n",
        "      'url': 'https://t.me/somechat/1/79744'\n",
        "    },\n",
        "    {\n",
        "      'text': 'Доброго дня, підскажіть будь ласка перевізників які беруть посилки з України в Марібор, дякую.',\n",
        "      'author': 'author-3',\n",
        "      'date': '2023-06-03T10:45:52Z',\n",
        "      'url': 'https://t.me/somechat/1/79675'\n",
        "    }\n",
        "]"
      ],
      "metadata": {
        "id": "a2pnV60S0WGs"
      },
      "execution_count": null,
      "outputs": []
    },
    {
      "cell_type": "code",
      "source": [
        "# create an embeddings vector\n",
        "def get_embeddings_vector(string):\n",
        "  res = openai.Embedding.create(input=[string], engine=EMBEDDINGS_MODEL)\n",
        "  embeds = [record['embedding'] for record in res['data']]\n",
        "  print(f'Generated embeddings for the string \"{string[0:100]}\", dimensions: {len(embeds[0])}')\n",
        "  return embeds"
      ],
      "metadata": {
        "id": "AOSoAFiX5W5i"
      },
      "execution_count": null,
      "outputs": []
    },
    {
      "cell_type": "code",
      "source": [
        "# save the vector and the original message + metadata (chat_id, timestamp, author) to Pinecone\n",
        "def get_vector_id(meta):\n",
        "  vector_id_part1 = meta['date']\n",
        "  vector_id_part2 = meta['url'].split('/')[-1]\n",
        "  vector_id = f'{vector_id_part1}-{vector_id_part2}'\n",
        "  print(f'vector_id = {vector_id}')\n",
        "  return vector_id"
      ],
      "metadata": {
        "id": "3-qCa8sW2DVI"
      },
      "execution_count": null,
      "outputs": []
    },
    {
      "cell_type": "code",
      "source": [
        "def save_vector_plus_meta(embeds, meta):\n",
        "  vector_id = get_vector_id(meta)\n",
        "  to_upsert = (\n",
        "      vector_id,\n",
        "      embeds,\n",
        "      meta) # meta (source text and other fields)\n",
        "  index.upsert(vectors=[to_upsert])\n",
        "  print(f'Vector #{vector_id} was upserted OK')"
      ],
      "metadata": {
        "id": "yASA6R8pA5q7"
      },
      "execution_count": null,
      "outputs": []
    },
    {
      "cell_type": "code",
      "source": [
        "for message in test_messages:\n",
        "  embeds = get_embeddings_vector(message[\"text\"])\n",
        "  save_vector_plus_meta(embeds, message)"
      ],
      "metadata": {
        "id": "A0YQEttA5qWB"
      },
      "execution_count": null,
      "outputs": []
    },
    {
      "cell_type": "code",
      "source": [
        "# Search for top relevant messages (generate a vector for a message, search for messages using similarity search)\n",
        "def get_top_relevant_messages(text):\n",
        "  embeds = get_embeddings_vector(text)\n",
        "\n",
        "  res = index.query(\n",
        "      embeds,\n",
        "      top_k=int(os.getenv('TOP_K')),\n",
        "      include_metadata=True\n",
        "      )\n",
        "\n",
        "  relevance_limit = float(os.getenv(\"SIMILARITY_SEARCH_LIMIT\"))\n",
        "  relevant_matches = []\n",
        "\n",
        "  print(\"All matches:\")\n",
        "  for match in res[\"matches\"]:\n",
        "    print(f'-- {round(match[\"score\"], 2)}: {match[\"metadata\"][\"text\"]}')\n",
        "    if match[\"score\"] >= relevance_limit: # 0.9\n",
        "      print(\">>>>> IT'S A MATCH!!! <<<<\")\n",
        "      match[\"metadata\"][\"score\"] = match[\"score\"]\n",
        "      relevant_matches.append(match[\"metadata\"])\n",
        "\n",
        "  if len(relevant_matches) == 0:\n",
        "    print(\"No relevant matches found\")\n",
        "  else:\n",
        "    print(\"Relevant matches:\")\n",
        "    [print(f'-- {round(relevant_match[\"score\"], 2)}: {relevant_match[\"text\"]}: {relevant_match[\"url\"]}') for relevant_match in relevant_matches]\n",
        "  return relevant_matches, embeds"
      ],
      "metadata": {
        "id": "AIc9EKTi2PXC"
      },
      "execution_count": null,
      "outputs": []
    },
    {
      "cell_type": "code",
      "source": [
        "print(\"TOP_K=\", int(os.getenv('TOP_K')))\n",
        "print(\"SIMILARITY_SEARCH_LIMIT=\", float(os.getenv(\"SIMILARITY_SEARCH_LIMIT\")))"
      ],
      "metadata": {
        "id": "y-i_L6-au6Wa"
      },
      "execution_count": null,
      "outputs": []
    },
    {
      "cell_type": "code",
      "source": [
        "# Test messages to check the similarity search\n",
        "test_message_1 = \"Де в Любляні поміняти валюту?\"\n",
        "test_message_2 = \"Шукаю перевізника з України\"\n",
        "test_message_3 = \"Хто отримав одлочбу цього місяця?\"\n"
      ],
      "metadata": {
        "id": "W3b7yxwLIkBr"
      },
      "execution_count": null,
      "outputs": []
    },
    {
      "cell_type": "code",
      "source": [
        "get_top_relevant_messages(test_message_1)"
      ],
      "metadata": {
        "id": "D8FhRyIgI1iE"
      },
      "execution_count": null,
      "outputs": []
    },
    {
      "cell_type": "code",
      "source": [
        "get_top_relevant_messages(test_message_2)"
      ],
      "metadata": {
        "id": "yit6vw0UI7U4"
      },
      "execution_count": null,
      "outputs": []
    },
    {
      "cell_type": "code",
      "source": [
        "get_top_relevant_messages(test_message_3)"
      ],
      "metadata": {
        "id": "KfMKi0FJJBQ1"
      },
      "execution_count": null,
      "outputs": []
    },
    {
      "cell_type": "code",
      "source": [
        "# Example of message processing (search for similar messages, save the message into the vector DB)\n",
        "def get_similar_and_store(meta):\n",
        "  relevant_messages, embeds = get_top_relevant_messages(meta[\"text\"])\n",
        "  save_vector_plus_meta(embeds, meta)"
      ],
      "metadata": {
        "id": "L872IvFs2dz4"
      },
      "execution_count": null,
      "outputs": []
    },
    {
      "cell_type": "code",
      "source": [
        "# Test messages to check the whole setup (similarity search + saving each new message to the DB)\n",
        "msg= [\n",
        "\"Добрий вечір! Підкажіть будь ласка, хто отримав підтвердження на фінансову допомогу і компенсацію за житло чи доплатили вам за ті місяці де була вже підвищена допомога !?🙏\",\n",
        "\"да, кожного разу перераховують, в +, чи -\",\n",
        "\"Яка мінімальна виплата за житло\",\n",
        "\"трошки послухайте, якщо вас це дійсно цікавить\",\n",
        "\"Якщо одна особа виплачуе\",\n",
        "\"Якщо Людина працює і положила допомога на житло якщо вона живе в приватному будинку\",\n",
        "\"І оплачує сама\",\n",
        "\"Дуже вибачаюсь, але читайте те, що пишите, ставте розділові знаки, бо неможливо зрозуміти, що ви питаєте. Люди б раді допомогти інформацією, але просто не розуміють.\",\n",
        "\"Чи положена допомога на житло якщо  людина працює\",\n",
        "\"І живе приватному будинку\",\n",
        "\"ні\",\n",
        "\"ви працюєте і отримуєте допомогу?\",\n",
        "\"ви забули додати що маєте 3 дитини. Коли людина сама, то зп більша ніж допомога і людина не отримує допомогу.\",\n",
        "\"Якщо немає дітей то не положила допомога на житло\",\n",
        "\"А людина працює\",\n",
        "\"якщо  зп більша ні сума допомоги, то допомогу не платять\",\n",
        "\"Хтось трохи раніше писав: що, наприклад, якщо отримуєш зарплату 500 євро офіційно, то 500 вираховують з допомоги і також 500 вираховують з компенсації за житло\",\n",
        "\"Так, вони це можуть(.  Мої батьки не подавали на матеріальну допомогу,  бо отримують пенсію. Але подавали на допомогу на житло, бо пенсія зовсім невелика. В результаті допомогу на житло не отримали, тому що є пенсія.\",\n",
        "\"Доброго дня.  Хто робив паспорт через консула, підкажіть, будь ласка,  чи залишається старий паспорт на руках на період виготовлення нового? І чи потрібно приводити дітей на фото, або можна принести фото? Дякую\",\n",
        "\"Доброго дня, старий залишається на руках. Можно без дитини, само принести фото\",\n",
        "\"Дякую вам.  А ви не пам'ятаєте, який саме розмір фото?\",\n",
        "\"Паспорт віддавала коли отримувала новий і дитину не возила. Фото 10*15 на білому фоні робила. Паспорт робили тим літом.\",\n",
        "\"Тільки обовʼязково на білому фоні. Мені так консул казав. Я переробляла фото\",\n",
        "\"Не зовсім вірно. Залежить від віку дитини. Для маленьких, консул робить вийняток і приймає готове фото. Для старших дітей присутність обовʼязкова\",\n",
        "\"Доброго вечора,а якось візи переносяться? Наприклад щоб не було зайвих питань,яким чином і через який пункт перетинали кордон ЄС ?\",\n",
        "\"Нічого з цього не знаю, бо їхала по укр паспорту\",\n",
        "\"Я знаю,  що в Україні в чоловіка залишався старий паспорт разом з новим у випадку діючих віз. Мабуть, що тут така ж історія\",\n",
        "\"Буду питати у Консула,дякую за відповідь!\",\n",
        "\"Доброго вечора всім. Є питання по грошовій допомозі, може хтось мав подібну ситуацію. Я тут живу сама з 2 дітьми. Якщо я влаштуюсь на роботу і ЗП буде такою ж або вищою за мої виплати на себе і дітей, то виплати всі заберу, чи заберу тільки мої 421, а на дітей залишать?\",\n",
        "\"Якщо буде більшою за нараховані виплати, то всю.\",\n",
        "\"Я так розумію, зарплата вираховується з загальної допомоги на всю сім'ю, а не на кожного окремо\",\n",
        "\"Ви подаєтесь всі разом, вам нарахована загальна сума. З неї і буде враховуватися усі доходи. І з фінансової допомоги, і з компенсації житла\",\n",
        "\"Дякую всім. Так і думала, але надія на краще залишалась 😀\",\n",
        "\"Otroški dodatek будуть платити. Але його розмір залежить від зарплати.\",\n",
        "\"Всім привіт! Підскажіть будь ласка, чи можна з Грошової допомоги (з Революта), переводити гроші на укр рахунок?\",\n",
        "\"Ні якого моніторингу немає, куди ідуть кошти з грошової допомоги?\",\n",
        "\"Я переводила на приват. Це було видно в виписці. Але допомогу нараховували\",\n",
        "\"я б так не сказала..не держить словенців за дурнів.. соціальну допомогу платять для цілей проживання та харчування біженців (осіб зі статусом тимчасового захисту).. просто тут все повільно роблять, у тому числі і фінманіторинг. Якщо ви регулярно переказуєте гроші на інші рахунки, рано чи пізно вами зацікавляться.  Мабуть вам гроші тут й непотрібні..Знаю випадки коли довелося писати пояснювальні записки з приводу того, чому гроші знімаються регулярно  готівкою в банкоматі, і з іншого боку - чому якусь суму було зараховано або покладено через банкомат на рахунок (наприклад, потрібно було зробити платіж, а коштів на банківському рахунку  було недостатньо).\",\n",
        "\"Доброго ранку! Скажіть будь ласка, чи вказано у ваших договорах оренди суму податку? Подала документи на компенсацію оренди житла, а у мене госпа з Ураду питає чому у договорі немає суми податку...\",\n",
        "\"дуже  дивне питання від уряду. Ні, сумми податку в договорі нема.\",\n",
        "\"В договорі повинна бути вказана сума як ви платите за аренду. Принаймі в менє так\",\n",
        "\"Так, сума вказана. І всі умови також прописані. Піду допитуватися чому питають.\",\n",
        "\"Сума податку залежить від умов словенської сторони. Наприклад, пенсіонери не платять податки від доходів з оренди (тому часто оформлюють на пенсіонерів). То ж цій інформації не місце в договорі, бо ви не знаєте їх особистих умов. Повинна бути тільки та сума, що ви платите.\",\n",
        "\"Підскажіть будь ласка скільки приблизно чекали загран паспорт від моменту паспорт виготовлен до моменту коли він приїхав и вже можна його отримати? Чекаю вже 3 місяця\",\n",
        "\"Консул сказав що чекати ще від 1-3 місяців, а як із Вашого досвіду було? Поділиться будь ласка\",\n",
        "\"Теж 3 місяці чекаємо. Неділю назад оновився статус на «виготовлено». Тож залишилось дочекатися поки він приїде в Словенію\",\n",
        "\"Добрий день. Скажіть будь ласка, якщо хтось з таким вже стикався. Повернулися в Україну та повідомили уряд. Тільки отримали рішення, що потрібно повернути зайве нараховану фінансову допомогу за один місяць. В рішенні вказані реквізити для повернення: st. SI56 01100-6300109972, na sklic SI18-15423-4119991-22120022. Хтось розуміє що таке sklic та де його вносити. Дякую\",\n",
        "\"У Словаччині(Братислава)відкрили сервісний центр, паспорти роблять за місяць\",\n",
        "\"Sklic - це призначення платежу. В платіжних системах словенських банків це окремий рядок, який так і є Sklic. Але якщо ви робите оплату з іншого банку, то обовʼязково вкажіть його у рядку призначення платежу. Sklic іншими словами Referenca\",\n",
        "\"Так, бачу 🤔 Я працюю з револютом як юр.особа, то там є призначення при формуванні платежу. Може ще хтось підкаже.\",\n",
        "\"Є, Reference, просто автоматично пише Sent from Revolut, вручну можна поміняти\",\n",
        "\"Хто до консула брал талон,всім приходило підтвердження?\",\n",
        "\"Вам приходило підтвердження на пошту відразу?\",\n",
        "\"Чекали з 20 березня і тільки написано що виготовлений сплатили і чекаємо доставку.\",\n",
        "\"Наші приїхали приблизно через 1,5 місяці після виготовлення. За доставку не платили, дипломатичною поштою\",\n",
        "\"Ви коли записувалися на дату до консула,вам приходило на е пошту підтвердити? Бо мені ні,может я зря чекаю?\",\n",
        "\"Розібралися: вони хочуть щоб у договорі було вказано податковий номер орендодавця\",\n",
        "\"Колись не так давно було повідомлення на сайті Посольства здається і писалося про технічний збій,що не генеруються автоматично листи з підтвердженням бронювання. Писали,що після того як в e- черзі проходило бронювання,потрібно було написати консулу на його мейл і якось вже він підтверджував бронювання ( вже не пам'ятаю як). Тобто умова прийому- це лист на ваш мейл з підтвердженням. Це гарантує прийом. Якщо лист не прийшов через технічний збій- напишіть чи зателефонуйте консулу ( вся інформація на сайті посольства)\",\n",
        "\"Добрий вечір! Підкажіть, будь ласка, скільки максимальна сумма виплат за житло?\",\n",
        "\"Доброго дня я якщо я працюю а брат мій ні і живемо приватному будинку чи положена допомога\",\n",
        "\"Привіт усім!!! Я студент і  шукаю підробіток.  Я не володію словенською мовою, англійська слаба. Дякую усім хто допоможе🙏\",\n",
        "\"Це ваші фантазії. Я регулярно з Револют платив на рахунків інших людей, ніяких питань при продовженні не виникало. Є закон, по ньому нараховується, а куди витрачаєте - то ваше особисте.\",\n",
        "\"421€ (може трохи більше) + 30% на кожного члена сім'ї\",\n",
        "\"Ваша зп буде відніматися від компенсації. Якщо вона більше, то немає сенсу на неї подаватися\",\n",
        "\"Я коли питала, то сказали що максимум десь 520-550€. На дорослу людину + дитину до 18 років\",\n",
        "\"Доброго дня! підкажіть, будь ласка, якщо олдочба закінчується 31.07, треба подаватись на подовження рівно за місяць? 30.06?\",\n",
        "\"Підскажить будь ласка телефон на дунайській про фін.помічь?\",\n",
        "\"1.07 відправляйте, щоб була виписка з банку за повний попередній місяць\",\n",
        "\"Доброго дня. Будь-ласка, підкажіть адресу електронної пошти, на яку можна писати в Любляну щодо деталей по фінансовій допомозі. Щоб дослати документи, тощо..?\",\n",
        "\"Я робила довіреність в банк на свого чоловіка, все ок, отримав і картку, і гроші. Але цю довіреність ще в Україні треба вносити в реєстр у нотаріуса, це коштувало ще стільки ж, як і сама довіреність. Срок дії довіреності 1 рік\"\n",
        "\"На початку липня, коли буде виписка з банку за червень\",\n",
        "\"Доброго дня якщо мій брат не працює нігде чи має право на допомогу\",\n",
        "\"А скільки на одну особу допомога\",\n",
        "\"Які потрібно документи щоб подати\",\n",
        "\"При відкритті рахунку револют не можу пройти верифікацію, бо підтримка просить підтвердження адреси проживання: лист від комунальників, від державного закладу або іншої офіційної кореспонденції. Нажаль в Словенії недавно, тому нічого подібного в нас немає. Адреса на картці ТЗ (ісказніца) їх не влаштовує. Хто знає що робити, або чи є якісь аналоги револют де можна рахунок відкрити для отримання допомоги?\",\n",
        "\"Вам давали декілька разів посилання, де шукати відповіді на ваші запитання. У кожного своя низка документів. Читайте, дивіться канал на ютубі і робіть висновки і збирайте документи\",\n",
        "\"Доброго вечора! Може є серед нас українці, які офіційно працюють в Словенії, та вже змінили статус ТЗ на ВНЖ? Можете підказати яка там процедура? Та що треба зробити роботодавцю (якісь документи подати кудись)?\",\n",
        "\"Процедура така: Ваш працедавець повинен дати влогу на робочий дозвіл для іноземця в завод за запослованье. На підставі робочего дозвола Управна Енота видає посвідку на тимчасове проживання. Але всі українці з тимчасовим захистом мають право працювати без робочого дозволу. Тому я дуже здивуюсь, якщо хтось проходив цю процедуру.\",\n",
        "\"Податковий номер вам на пошту приходив? Можете, в такому разі, сфотографувати його\",\n",
        "\"Ні, ми його вчора оформили і сьогодні особисто забрали аби вже завтра на допомогу податися.\",\n",
        "\"Ізказніци теж не через пошту отримували?\",\n",
        "\"Подзвонили, сказали прийти забрати ((\",\n",
        "\"Прийде лист про нарахування допомоги. Але! Він прийде через пару тижнів, а треба зараз. А без верифікації навіть iban не дає.\",\n",
        "\"Доброго дня, підкажіть будь-ласка, дізнатись статус рішення по фін допомозі можна тільки по телефону? Чи може через електронну пошту?\",\n",
        "\"Ще не робили, бо не знайшли постійне житло і бронюємо по букінгу кожні 4-10 днів 😵‍💫\",\n",
        "\"Добрий день. Підкажіть, будь ласка, якщо припиняється достроково контракт оренди житла, треба йти в єноту з орендодавцем повідомити про це, щоб зняли реєстрації(прописка). Чи треба власниці житла повідомити кудись про розірвання договору аренди?\",\n",
        "\"Точно не пригадую, але Ви прописуєте свою українську адресу, бо Ви резидент України\",\n",
        "\"Якщо отримуєте компенсацію за оренду, тоді необхідно протягом восьми днів подати прілогу 2 до ураду.\",\n",
        "\"Якщо ви в мене питали, то вам необхідно подати прілогу 2 та повний новий пакет документів на компенсацію оренди за новою адресою.\",\n",
        "\"Підкажіть, будь-ласка, скільки зараз приблизно люди чекають на видачу тимчасового захисту у Словенії?\",\n",
        "\"Все залежить від міста, в якому будете робити. Орієнтовно 10 днів, в великих містах довше.\",\n",
        "\"Доброго дня! Підкажіть, хто знає, після отримання захисту та  прописки автівку в єдності ставити на адресний облік?\"\n",
        "]"
      ],
      "metadata": {
        "id": "CKkEm8oJ8M4j"
      },
      "execution_count": null,
      "outputs": []
    },
    {
      "cell_type": "code",
      "source": [
        "res = []\n",
        "for idx, message in enumerate(msg):\n",
        "  if len(message) > 20:\n",
        "    res.append({\n",
        "      'text': message,\n",
        "      'author': 'author-1',\n",
        "      'date': '2023-06-04T10:45:52Z',\n",
        "      'url': f'https://t.me/somechat/1/12456{idx}'\n",
        "    })\n",
        "print(res)\n",
        "print(len(res))"
      ],
      "metadata": {
        "id": "5usFyYfD8Pa7"
      },
      "execution_count": null,
      "outputs": []
    },
    {
      "cell_type": "code",
      "source": [
        "for doc in res:\n",
        "  get_similar_and_store(doc)"
      ],
      "metadata": {
        "id": "R_KQVvVx8TIR"
      },
      "execution_count": null,
      "outputs": []
    }
  ]
}