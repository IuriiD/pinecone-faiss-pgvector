{
  "nbformat": 4,
  "nbformat_minor": 0,
  "metadata": {
    "colab": {
      "provenance": []
    },
    "kernelspec": {
      "name": "python3",
      "display_name": "Python 3"
    },
    "language_info": {
      "name": "python"
    }
  },
  "cells": [
    {
      "cell_type": "markdown",
      "source": [
        "__“DRY” (Do Not Repeat Yourself) - semantic search using PGVector & OpenAI Embeddings__\n",
        "![image.png](data:image/png;base64,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)\n"
      ],
      "metadata": {
        "id": "1upoUqMn0KK8"
      }
    },
    {
      "cell_type": "code",
      "execution_count": null,
      "metadata": {
        "id": "WfJZA64q0H7l"
      },
      "outputs": [],
      "source": [
        "# Set the needed environment variables\n",
        "# \"env\" file example:\n",
        "\n",
        "\"\"\"\n",
        "OPENAI_API_KEY=<get at openai.com, e.g. sk-Uue<secret>TICeE>\n",
        "OPENAI_ORG=<get at openai.com, e.g. org-hdB<something>g4ws>\n",
        "PGVECTOR_CONNECTION_STRING=postgresql://[username]:[password]!@[host]:[port]/[db_name]\n",
        "PGVECTOR_COLLECTION_NAME=dry\n",
        "SIMILARITY_SEARCH_LIMIT=0.1\n",
        "TOP_K=5\n",
        "\"\"\"\n",
        "\n",
        "import os\n",
        "env_vars = !cat env\n",
        "for var in env_vars:\n",
        "  key, value = var.split('=')\n",
        "  os.environ[key] = value\n",
        "\n",
        "PGVECTOR_COLLECTION_NAME = os.getenv(\"PGVECTOR_COLLECTION_NAME\")\n",
        "SIMILARITY_SEARCH_LIMIT = os.getenv(\"SIMILARITY_SEARCH_LIMIT\")\n",
        "\n",
        "print(os.getenv('PGVECTOR_COLLECTION_NAME', 'PGVECTOR_COLLECTION_NAME not found - check if the env variables are set correctly'))"
      ]
    },
    {
      "cell_type": "code",
      "source": [
        "# Test messages to check saving vectors and metadata to the database\n",
        "test_messages = [\n",
        "    {\n",
        "      'text': 'Доброго вечора, де можна в Любляні чи Ново место поміняти різну валюту на евро ? (Не долари) підскажіть, будь ласка',\n",
        "      'author': 'author-1',\n",
        "      'date': '2023-06-04T10:45:52Z',\n",
        "      'url': 'https://t.me/ukrainiansinslo/1/79738'\n",
        "    },\n",
        "    {\n",
        "      'text': 'Наразі обмін валюти тільки в банках. Пошта раніше міняла, зараз - ні.',\n",
        "      'author': 'author-2',\n",
        "      'date': '2023-06-04T10:50:52Z',\n",
        "      'url': 'https://t.me/ukrainiansinslo/1/79744'\n",
        "    },\n",
        "    {\n",
        "      'text': 'Доброго дня, підскажіть будь ласка перевізників які беруть посилки з України в Марібор, дякую.',\n",
        "      'author': 'author-3',\n",
        "      'date': '2023-06-03T10:45:52Z',\n",
        "      'url': 'https://t.me/ukrainiansinslo/1/79675'\n",
        "    }\n",
        "]"
      ],
      "metadata": {
        "id": "a2pnV60S0WGs"
      },
      "execution_count": null,
      "outputs": []
    },
    {
      "cell_type": "code",
      "source": [
        "%pip install openai\n",
        "\n",
        "import openai\n",
        "\n",
        "openai.api_key = os.getenv('OPENAI_API_KEY')\n",
        "openai.organization = os.getenv('OPENAI_ORG')\n",
        "\n",
        "EMBEDDINGS_MODEL = \"text-embedding-ada-002\"\n",
        "INDEX_DIMENSIONS = 1536 # specific for \"text-embedding-ada-002\"\n",
        "\n",
        "# check requests to OpenAI\n",
        "print('OpenAI Engines: ', openai.Engine.list())"
      ],
      "metadata": {
        "id": "qNRSO-HhquDY"
      },
      "execution_count": null,
      "outputs": []
    },
    {
      "cell_type": "code",
      "source": [
        "%pip install pgvector\n",
        "%pip install openai\n",
        "%pip install psycopg2-binary\n",
        "%pip install tiktoken\n",
        "\n",
        "import json\n",
        "import psycopg2\n",
        "import pgvector\n",
        "from psycopg2.extras import execute_values\n",
        "from pgvector.psycopg2 import register_vector"
      ],
      "metadata": {
        "id": "lI8sCCQLGBt1"
      },
      "execution_count": null,
      "outputs": []
    },
    {
      "cell_type": "code",
      "source": [
        "# Connect to Postgresql DB and install the pgvector extension\n",
        "db_connection = psycopg2.connect(os.getenv(\"PGVECTOR_CONNECTION_STRING\"))\n",
        "db_cursor = db_connection.cursor()\n",
        "db_connection.autocommit = True\n",
        "\n",
        "# Register the vector type with psycopg2\n",
        "register_vector(db_connection)"
      ],
      "metadata": {
        "id": "KWP5ijuYGPbL"
      },
      "execution_count": null,
      "outputs": []
    },
    {
      "cell_type": "code",
      "source": [
        "# This cell is to close the cursor and connection\n",
        "# Can be run in case of the error\n",
        "# InFailedSqlTransaction: current transaction is aborted, commands ignored until end of transaction block\n",
        "# if you are not sure about what's needed to finish the transaction (with subsequent re-reconnect)\n",
        "db_cursor.close()\n",
        "db_connection.close()"
      ],
      "metadata": {
        "id": "epmJQqMDu3nO"
      },
      "execution_count": null,
      "outputs": []
    },
    {
      "cell_type": "code",
      "source": [
        "# Skip this cell, it's optional and only to test the DB connection\n",
        "db_cursor.execute(\"CREATE TABLE IF NOT EXISTS customers (id SERIAL PRIMARY KEY, name VARCHAR(50), email VARCHAR(100), age INTEGER);\")\n",
        "\n",
        "db_cursor.execute(\"\"\"\n",
        "INSERT INTO customers (name, email, age)\n",
        "VALUES ('John Doe', 'john.doe@example.com', 30),\n",
        "       ('Jane Smith', 'jane.smith@example.com', 25),\n",
        "       ('Michael Johnson', 'michael.johnson@example.com', 40);\n",
        "\"\"\")"
      ],
      "metadata": {
        "id": "uLkTv8c-GTAG"
      },
      "execution_count": null,
      "outputs": []
    },
    {
      "cell_type": "code",
      "source": [
        "# Install pgvector. In Supabase it's also can be done via UI\n",
        "db_cursor.execute(\"CREATE EXTENSION IF NOT EXISTS vector\");"
      ],
      "metadata": {
        "id": "wEdjMcQ7Gfg5"
      },
      "execution_count": null,
      "outputs": []
    },
    {
      "cell_type": "code",
      "source": [
        "# Create table to store embeddings and metadata\n",
        "table_create_command = f\"\"\"\n",
        "CREATE TABLE IF NOT EXISTS {PGVECTOR_COLLECTION_NAME} (\n",
        "          id TEXT PRIMARY KEY,\n",
        "          text TEXT,\n",
        "          metadata JSON,\n",
        "          embedding VECTOR({INDEX_DIMENSIONS})\n",
        "            );\n",
        "            \"\"\"\n",
        "db_cursor.execute(table_create_command)"
      ],
      "metadata": {
        "id": "ZPwnoydzIIGh"
      },
      "execution_count": null,
      "outputs": []
    },
    {
      "cell_type": "code",
      "source": [
        "# a test row\n",
        "test_input = {\n",
        "\"text\":\"Випадковий текст\",\n",
        "\"author\":\"author-1\",\n",
        "\"date\":\"2023-06-04T10:45:52Z\",\n",
        "\"url\":\"https://t.me/ukrainiansinslo/1/79738\"\n",
        "}"
      ],
      "metadata": {
        "id": "t7V32-CDGp26"
      },
      "execution_count": null,
      "outputs": []
    },
    {
      "cell_type": "code",
      "source": [
        "def get_embeddings_vector(string):\n",
        "  res = openai.Embedding.create(input=[string], engine=EMBEDDINGS_MODEL)\n",
        "  print(f'Generated embeddings for the string \"{string[0:100]}\", dimensions: {len(res[\"data\"][0][\"embedding\"])}')\n",
        "  return res[\"data\"][0][\"embedding\"]"
      ],
      "metadata": {
        "id": "4OniQ-5ita5W"
      },
      "execution_count": null,
      "outputs": []
    },
    {
      "cell_type": "code",
      "source": [
        "def get_vector_id(meta):\n",
        "  vector_id_part1 = meta['date']\n",
        "  vector_id_part2 = meta['url'].split('/')[-1]\n",
        "  vector_id = f'{vector_id_part1}-{vector_id_part2}'\n",
        "  print(f'vector_id = {vector_id}')\n",
        "  return vector_id"
      ],
      "metadata": {
        "id": "dQr5YvdGs86h"
      },
      "execution_count": null,
      "outputs": []
    },
    {
      "cell_type": "code",
      "source": [
        "def find_record_by_vector_id(db_cursor, vector_id):\n",
        "    check_if_record_exists_query = f\"\"\"\n",
        "      SELECT * FROM {PGVECTOR_COLLECTION_NAME}\n",
        "      WHERE id = '{vector_id}'\n",
        "    \"\"\"\n",
        "    db_cursor.execute(check_if_record_exists_query)\n",
        "    rows_found = db_cursor.fetchall()\n",
        "    return rows_found"
      ],
      "metadata": {
        "id": "8kJk9h8k83Kb"
      },
      "execution_count": null,
      "outputs": []
    },
    {
      "cell_type": "code",
      "source": [
        "def save_vector_plus_meta(db_cursor, doc, embeds):\n",
        "  try:\n",
        "    vector_id = get_vector_id(doc)\n",
        "    doc_as_stringified_json = json.dumps(doc)\n",
        "\n",
        "    # 1. Note the single quotes around the 1st three arguments, otherwise we get the error\n",
        "    # SyntaxError: trailing junk after numeric literal at or near \"04T\",\n",
        "    # Also, the json payload needs to be stringified\n",
        "    # 2. Theoretically, a message (thus, the embedding) may be updated. In this case\n",
        "    # we'll overwrite text/embedding/metadata for the given id\n",
        "    query = f\"\"\"\n",
        "      INSERT INTO {PGVECTOR_COLLECTION_NAME} (id, text, embedding, metadata)\n",
        "      VALUES ('{vector_id}', '{doc[\"text\"]}', '{embeds}', '{doc_as_stringified_json}')\n",
        "      ON CONFLICT (id)\n",
        "      DO\n",
        "        UPDATE SET text = '{doc[\"text\"]}', embedding = '{embeds}', metadata = '{doc_as_stringified_json}'\n",
        "    \"\"\"\n",
        "    db_cursor.execute(query)\n",
        "    print(f\"Vector {vector_id} was added to the DB\")\n",
        "    return vector_id\n",
        "  except Exception as e:\n",
        "    print(f\"[save_vector_plus_meta] exception of type {type(e).__name__}: {e}\")"
      ],
      "metadata": {
        "id": "VgXmgGpK9e4t"
      },
      "execution_count": null,
      "outputs": []
    },
    {
      "cell_type": "code",
      "source": [
        "def count_rows(db_cursor):\n",
        "  db_cursor.execute(\"SELECT COUNT(*) FROM dry;\")\n",
        "  num_records = db_cursor.fetchone()[0]\n",
        "  print(\"Number of records in the table: \", num_records)\n",
        "  return num_records"
      ],
      "metadata": {
        "id": "kOH8WfwVIuaH"
      },
      "execution_count": null,
      "outputs": []
    },
    {
      "cell_type": "code",
      "source": [
        "def delete_row_by_id(db_cursor, id):\n",
        "  num_records_before = count_rows(db_cursor)\n",
        "  db_cursor.execute(f\"DELETE FROM dry WHERE id = '{id}';\")\n",
        "  num_records_after = count_rows(db_cursor)\n",
        "  print(f\"Rows before: {num_records_before}, rows after: {num_records_after}. Deleted id \", id)"
      ],
      "metadata": {
        "id": "nEQdpP8i7Rch"
      },
      "execution_count": null,
      "outputs": []
    },
    {
      "cell_type": "code",
      "source": [
        "delete_row_by_id(db_cursor, '2023-06-04T10:45:52Z-79738')"
      ],
      "metadata": {
        "id": "huT9JrCL7zHK"
      },
      "execution_count": null,
      "outputs": []
    },
    {
      "cell_type": "code",
      "source": [
        "for doc in test_messages:\n",
        "  embeds = get_embeddings_vector(doc[\"text\"])\n",
        "  save_vector_plus_meta(db_cursor, doc, embeds)"
      ],
      "metadata": {
        "id": "f1f6v7vux1vx"
      },
      "execution_count": null,
      "outputs": []
    },
    {
      "cell_type": "code",
      "source": [
        "count_rows(db_cursor)"
      ],
      "metadata": {
        "id": "wigUpEVB6hhj"
      },
      "execution_count": null,
      "outputs": []
    },
    {
      "cell_type": "code",
      "source": [
        "# Search for top N relevant messages\n",
        "def get_top_relevant_messages(db_cursor, text, embeddings, k=int(os.getenv('TOP_K'))):\n",
        "  try:\n",
        "    # <=> is for cosine distance\n",
        "    # pgvector also supports inner product (<#>),\n",
        "    # Euclidean distance (L2 distance) (<->) etc\n",
        "    #\n",
        "    # We can filter by distance in the query using the where clause like below\n",
        "    # at the end of the query, but let's do it explicitly in the code\n",
        "    # WHERE distance < '{SIMILARITY_SEARCH_LIMIT}'\n",
        "    query = f\"\"\"\n",
        "      WITH vector_matches AS (\n",
        "          SELECT id, text, metadata, embedding <=> '{embeddings}' AS distance\n",
        "          FROM {PGVECTOR_COLLECTION_NAME}\n",
        "      )\n",
        "      SELECT id, text, metadata, distance\n",
        "      FROM vector_matches\n",
        "      ORDER BY distance\n",
        "      LIMIT '{k}';\n",
        "    \"\"\"\n",
        "\n",
        "    db_cursor.execute(query)\n",
        "    all_matches = db_cursor.fetchall()\n",
        "\n",
        "    relevant_matches = []\n",
        "    print(\"All matches:\")\n",
        "    for doc in all_matches:\n",
        "      print(f'-- {round(doc[3], 2)}: {doc[1]} / {doc[2]}')\n",
        "\n",
        "      # The lower the score value, the more similar vectors are\n",
        "      if round(doc[3], 2) <= float(SIMILARITY_SEARCH_LIMIT):\n",
        "        relevant_matches.append({\n",
        "            \"document\": doc,\n",
        "            \"score\": doc[3]\n",
        "            })\n",
        "\n",
        "    if len(relevant_matches) == 0:\n",
        "      print(\"No relevant matches found\")\n",
        "    else:\n",
        "      print(\"Relevant matches: \")\n",
        "      [print(f'-- {round(doc[\"score\"], 2)}: {doc[\"document\"][1]} / {doc[\"document\"][2]}') for doc in relevant_matches]\n",
        "    return relevant_matches\n",
        "  except Exception as e:\n",
        "    print(f\"[get_top_relevant_messages] {type(e).__name__} exception: {e}\")\n",
        "    return []"
      ],
      "metadata": {
        "id": "AIc9EKTi2PXC"
      },
      "execution_count": null,
      "outputs": []
    },
    {
      "cell_type": "code",
      "source": [
        "print(\"TOP_K=\", int(os.getenv('TOP_K')))\n",
        "print(\"SIMILARITY_SEARCH_LIMIT=\", float(os.getenv(\"SIMILARITY_SEARCH_LIMIT\")))"
      ],
      "metadata": {
        "id": "y-i_L6-au6Wa"
      },
      "execution_count": null,
      "outputs": []
    },
    {
      "cell_type": "code",
      "source": [
        "# Test messages to check the similarity search\n",
        "test_message_1 = 'Доброго вечора, де можна обміняти валюту?'\n",
        "test_message_2 = 'Шукаю перевізника з України'\n",
        "test_message_3 = 'Де взяти машину на прокат'"
      ],
      "metadata": {
        "id": "EPPqbc529R_e"
      },
      "execution_count": null,
      "outputs": []
    },
    {
      "cell_type": "code",
      "source": [
        "get_top_relevant_messages(db_cursor, test_message_1, get_embeddings_vector(test_message_1))"
      ],
      "metadata": {
        "id": "48G7PNvYvMU3"
      },
      "execution_count": null,
      "outputs": []
    },
    {
      "cell_type": "code",
      "source": [
        "get_top_relevant_messages(db_cursor, test_message_2, get_embeddings_vector(test_message_2))"
      ],
      "metadata": {
        "id": "-Xpg-15d-g0L"
      },
      "execution_count": null,
      "outputs": []
    },
    {
      "cell_type": "code",
      "source": [
        "get_top_relevant_messages(db_cursor, test_message_3, get_embeddings_vector(test_message_3))"
      ],
      "metadata": {
        "id": "Pv51TqaT-oWN"
      },
      "execution_count": null,
      "outputs": []
    },
    {
      "cell_type": "code",
      "source": [
        "# Example of message processing (search for similar messages, save the message into the vector DB)\n",
        "def get_similar_and_store(db_cursor, doc):\n",
        "  embeddings = get_embeddings_vector(doc[\"text\"])\n",
        "  relevant_messages = get_top_relevant_messages(db_cursor, doc[\"text\"], embeddings)\n",
        "  if len(relevant_messages) > 0:\n",
        "    print('>>>> SUGGESTION FOUND <<<<')\n",
        "  save_vector_plus_meta(db_cursor, doc, embeddings)"
      ],
      "metadata": {
        "id": "L872IvFs2dz4"
      },
      "execution_count": null,
      "outputs": []
    },
    {
      "cell_type": "code",
      "source": [
        "# Test messages to check the whole setup (similarity search + saving each new message to the DB)\n",
        "msg= [\n",
        "\"Добрий вечір! Підкажіть будь ласка, хто отримав підтвердження на фінансову допомогу і компенсацію за житло чи доплатили вам за ті місяці де була вже підвищена допомога !?🙏\",\n",
        "\"да, кожного разу перераховують, в +, чи -\",\n",
        "\"Яка мінімальна виплата за житло\",\n",
        "\"трошки послухайте, якщо вас це дійсно цікавить\",\n",
        "\"Якщо одна особа виплачуе\",\n",
        "\"Якщо Людина працює і положила допомога на житло якщо вона живе в приватному будинку\",\n",
        "\"І оплачує сама\",\n",
        "\"Дуже вибачаюсь, але читайте те, що пишите, ставте розділові знаки, бо неможливо зрозуміти, що ви питаєте. Люди б раді допомогти інформацією, але просто не розуміють.\",\n",
        "\"Чи положена допомога на житло якщо  людина працює\",\n",
        "\"І живе приватному будинку\",\n",
        "\"ні\",\n",
        "\"ви працюєте і отримуєте допомогу?\",\n",
        "\"ви забули додати що маєте 3 дитини. Коли людина сама, то зп більша ніж допомога і людина не отримує допомогу.\",\n",
        "\"Якщо немає дітей то не положила допомога на житло\",\n",
        "\"А людина працює\",\n",
        "\"якщо  зп більша ні сума допомоги, то допомогу не платять\",\n",
        "\"Хтось трохи раніше писав: що, наприклад, якщо отримуєш зарплату 500 євро офіційно, то 500 вираховують з допомоги і також 500 вираховують з компенсації за житло\",\n",
        "\"Так, вони це можуть(.  Мої батьки не подавали на матеріальну допомогу,  бо отримують пенсію. Але подавали на допомогу на житло, бо пенсія зовсім невелика. В результаті допомогу на житло не отримали, тому що є пенсія.\",\n",
        "\"Доброго дня.  Хто робив паспорт через консула, підкажіть, будь ласка,  чи залишається старий паспорт на руках на період виготовлення нового? І чи потрібно приводити дітей на фото, або можна принести фото? Дякую\",\n",
        "\"Доброго дня, старий залишається на руках. Можно без дитини, само принести фото\",\n",
        "\"Дякую вам.  А ви не пам'ятаєте, який саме розмір фото?\",\n",
        "\"Паспорт віддавала коли отримувала новий і дитину не возила. Фото 10*15 на білому фоні робила. Паспорт робили тим літом.\",\n",
        "\"Тільки обовʼязково на білому фоні. Мені так консул казав. Я переробляла фото\",\n",
        "\"Не зовсім вірно. Залежить від віку дитини. Для маленьких, консул робить вийняток і приймає готове фото. Для старших дітей присутність обовʼязкова\",\n",
        "\"Доброго вечора,а якось візи переносяться? Наприклад щоб не було зайвих питань,яким чином і через який пункт перетинали кордон ЄС ?\",\n",
        "\"Нічого з цього не знаю, бо їхала по укр паспорту\",\n",
        "\"Я знаю,  що в Україні в чоловіка залишався старий паспорт разом з новим у випадку діючих віз. Мабуть, що тут така ж історія\",\n",
        "\"Буду питати у Консула,дякую за відповідь!\",\n",
        "\"Доброго вечора всім. Є питання по грошовій допомозі, може хтось мав подібну ситуацію. Я тут живу сама з 2 дітьми. Якщо я влаштуюсь на роботу і ЗП буде такою ж або вищою за мої виплати на себе і дітей, то виплати всі заберу, чи заберу тільки мої 421, а на дітей залишать?\",\n",
        "\"Якщо буде більшою за нараховані виплати, то всю.\",\n",
        "\"Я так розумію, зарплата вираховується з загальної допомоги на всю сім'ю, а не на кожного окремо\",\n",
        "\"Ви подаєтесь всі разом, вам нарахована загальна сума. З неї і буде враховуватися усі доходи. І з фінансової допомоги, і з компенсації житла\",\n",
        "\"Дякую всім. Так і думала, але надія на краще залишалась 😀\",\n",
        "\"Otroški dodatek будуть платити. Але його розмір залежить від зарплати.\",\n",
        "\"Всім привіт! Підскажіть будь ласка, чи можна з Грошової допомоги (з Революта), переводити гроші на укр рахунок?\",\n",
        "\"Ні якого моніторингу немає, куди ідуть кошти з грошової допомоги?\",\n",
        "\"Я переводила на приват. Це було видно в виписці. Але допомогу нараховували\",\n",
        "\"я б так не сказала..не держить словенців за дурнів.. соціальну допомогу платять для цілей проживання та харчування біженців (осіб зі статусом тимчасового захисту).. просто тут все повільно роблять, у тому числі і фінманіторинг. Якщо ви регулярно переказуєте гроші на інші рахунки, рано чи пізно вами зацікавляться.  Мабуть вам гроші тут й непотрібні..Знаю випадки коли довелося писати пояснювальні записки з приводу того, чому гроші знімаються регулярно  готівкою в банкоматі, і з іншого боку - чому якусь суму було зараховано або покладено через банкомат на рахунок (наприклад, потрібно було зробити платіж, а коштів на банківському рахунку  було недостатньо).\",\n",
        "\"Доброго ранку! Скажіть будь ласка, чи вказано у ваших договорах оренди суму податку? Подала документи на компенсацію оренди житла, а у мене госпа з Ураду питає чому у договорі немає суми податку...\",\n",
        "\"дуже  дивне питання від уряду. Ні, сумми податку в договорі нема.\",\n",
        "\"В договорі повинна бути вказана сума як ви платите за аренду. Принаймі в менє так\",\n",
        "\"Так, сума вказана. І всі умови також прописані. Піду допитуватися чому питають.\",\n",
        "\"Сума податку залежить від умов словенської сторони. Наприклад, пенсіонери не платять податки від доходів з оренди (тому часто оформлюють на пенсіонерів). То ж цій інформації не місце в договорі, бо ви не знаєте їх особистих умов. Повинна бути тільки та сума, що ви платите.\",\n",
        "\"Підскажіть будь ласка скільки приблизно чекали загран паспорт від моменту паспорт виготовлен до моменту коли він приїхав и вже можна його отримати? Чекаю вже 3 місяця\",\n",
        "\"Консул сказав що чекати ще від 1-3 місяців, а як із Вашого досвіду було? Поділиться будь ласка\",\n",
        "\"Теж 3 місяці чекаємо. Неділю назад оновився статус на «виготовлено». Тож залишилось дочекатися поки він приїде в Словенію\",\n",
        "\"Добрий день. Скажіть будь ласка, якщо хтось з таким вже стикався. Повернулися в Україну та повідомили уряд. Тільки отримали рішення, що потрібно повернути зайве нараховану фінансову допомогу за один місяць. В рішенні вказані реквізити для повернення: st. SI56 01100-6300109972, na sklic SI18-15423-4119991-22120022. Хтось розуміє що таке sklic та де його вносити. Дякую\",\n",
        "\"У Словаччині(Братислава)відкрили сервісний центр, паспорти роблять за місяць\",\n",
        "\"Sklic - це призначення платежу. В платіжних системах словенських банків це окремий рядок, який так і є Sklic. Але якщо ви робите оплату з іншого банку, то обовʼязково вкажіть його у рядку призначення платежу. Sklic іншими словами Referenca\",\n",
        "\"Так, бачу 🤔 Я працюю з револютом як юр.особа, то там є призначення при формуванні платежу. Може ще хтось підкаже.\",\n",
        "\"Є, Reference, просто автоматично пише Sent from Revolut, вручну можна поміняти\",\n",
        "\"Хто до консула брал талон,всім приходило підтвердження?\",\n",
        "\"Вам приходило підтвердження на пошту відразу?\",\n",
        "\"Чекали з 20 березня і тільки написано що виготовлений сплатили і чекаємо доставку.\",\n",
        "\"Наші приїхали приблизно через 1,5 місяці після виготовлення. За доставку не платили, дипломатичною поштою\",\n",
        "\"Ви коли записувалися на дату до консула,вам приходило на е пошту підтвердити? Бо мені ні,может я зря чекаю?\",\n",
        "\"Розібралися: вони хочуть щоб у договорі було вказано податковий номер орендодавця\",\n",
        "\"Колись не так давно було повідомлення на сайті Посольства здається і писалося про технічний збій,що не генеруються автоматично листи з підтвердженням бронювання. Писали,що після того як в e- черзі проходило бронювання,потрібно було написати консулу на його мейл і якось вже він підтверджував бронювання ( вже не пам'ятаю як). Тобто умова прийому- це лист на ваш мейл з підтвердженням. Це гарантує прийом. Якщо лист не прийшов через технічний збій- напишіть чи зателефонуйте консулу ( вся інформація на сайті посольства)\",\n",
        "\"Добрий вечір! Підкажіть, будь ласка, скільки максимальна сумма виплат за житло?\",\n",
        "\"Доброго дня я якщо я працюю а брат мій ні і живемо приватному будинку чи положена допомога\",\n",
        "\"Привіт усім!!! Я студент і  шукаю підробіток.  Я не володію словенською мовою, англійська слаба. Дякую усім хто допоможе🙏\",\n",
        "\"Це ваші фантазії. Я регулярно з Револют платив на рахунків інших людей, ніяких питань при продовженні не виникало. Є закон, по ньому нараховується, а куди витрачаєте - то ваше особисте.\",\n",
        "\"421€ (може трохи більше) + 30% на кожного члена сім'ї\",\n",
        "\"Ваша зп буде відніматися від компенсації. Якщо вона більше, то немає сенсу на неї подаватися\",\n",
        "\"Я коли питала, то сказали що максимум десь 520-550€. На дорослу людину + дитину до 18 років\",\n",
        "\"Доброго дня! підкажіть, будь ласка, якщо олдочба закінчується 31.07, треба подаватись на подовження рівно за місяць? 30.06?\",\n",
        "\"Підскажить будь ласка телефон на дунайській про фін.помічь?\",\n",
        "\"1.07 відправляйте, щоб була виписка з банку за повний попередній місяць\",\n",
        "\"Доброго дня. Будь-ласка, підкажіть адресу електронної пошти, на яку можна писати в Любляну щодо деталей по фінансовій допомозі. Щоб дослати документи, тощо..?\",\n",
        "\"Я робила довіреність в банк на свого чоловіка, все ок, отримав і картку, і гроші. Але цю довіреність ще в Україні треба вносити в реєстр у нотаріуса, це коштувало ще стільки ж, як і сама довіреність. Срок дії довіреності 1 рік\"\n",
        "\"На початку липня, коли буде виписка з банку за червень\",\n",
        "\"Доброго дня якщо мій брат не працює нігде чи має право на допомогу\",\n",
        "\"А скільки на одну особу допомога\",\n",
        "\"Які потрібно документи щоб подати\",\n",
        "\"При відкритті рахунку револют не можу пройти верифікацію, бо підтримка просить підтвердження адреси проживання: лист від комунальників, від державного закладу або іншої офіційної кореспонденції. Нажаль в Словенії недавно, тому нічого подібного в нас немає. Адреса на картці ТЗ (ісказніца) їх не влаштовує. Хто знає що робити, або чи є якісь аналоги револют де можна рахунок відкрити для отримання допомоги?\",\n",
        "\"Вам давали декілька разів посилання, де шукати відповіді на ваші запитання. У кожного своя низка документів. Читайте, дивіться канал на ютубі і робіть висновки і збирайте документи\",\n",
        "\"Доброго вечора! Може є серед нас українці, які офіційно працюють в Словенії, та вже змінили статус ТЗ на ВНЖ? Можете підказати яка там процедура? Та що треба зробити роботодавцю (якісь документи подати кудись)?\",\n",
        "\"Процедура така: Ваш працедавець повинен дати влогу на робочий дозвіл для іноземця в завод за запослованье. На підставі робочего дозвола Управна Енота видає посвідку на тимчасове проживання. Але всі українці з тимчасовим захистом мають право працювати без робочого дозволу. Тому я дуже здивуюсь, якщо хтось проходив цю процедуру.\",\n",
        "\"Податковий номер вам на пошту приходив? Можете, в такому разі, сфотографувати його\",\n",
        "\"Ні, ми його вчора оформили і сьогодні особисто забрали аби вже завтра на допомогу податися.\",\n",
        "\"Ізказніци теж не через пошту отримували?\",\n",
        "\"Подзвонили, сказали прийти забрати ((\",\n",
        "\"Прийде лист про нарахування допомоги. Але! Він прийде через пару тижнів, а треба зараз. А без верифікації навіть iban не дає.\",\n",
        "\"Доброго дня, підкажіть будь-ласка, дізнатись статус рішення по фін допомозі можна тільки по телефону? Чи може через електронну пошту?\",\n",
        "\"Ще не робили, бо не знайшли постійне житло і бронюємо по букінгу кожні 4-10 днів 😵‍💫\",\n",
        "\"Добрий день. Підкажіть, будь ласка, якщо припиняється достроково контракт оренди житла, треба йти в єноту з орендодавцем повідомити про це, щоб зняли реєстрації(прописка). Чи треба власниці житла повідомити кудись про розірвання договору аренди?\",\n",
        "\"Точно не пригадую, але Ви прописуєте свою українську адресу, бо Ви резидент України\",\n",
        "\"Якщо отримуєте компенсацію за оренду, тоді необхідно протягом восьми днів подати прілогу 2 до ураду.\",\n",
        "\"Якщо ви в мене питали, то вам необхідно подати прілогу 2 та повний новий пакет документів на компенсацію оренди за новою адресою.\",\n",
        "\"Підкажіть, будь-ласка, скільки зараз приблизно люди чекають на видачу тимчасового захисту у Словенії?\",\n",
        "\"Все залежить від міста, в якому будете робити. Орієнтовно 10 днів, в великих містах довше.\",\n",
        "\"Доброго дня! Підкажіть, хто знає, після отримання захисту та  прописки автівку в єдності ставити на адресний облік?\"\n",
        "]"
      ],
      "metadata": {
        "id": "LjJ8Mhn5NdOX"
      },
      "execution_count": null,
      "outputs": []
    },
    {
      "cell_type": "code",
      "source": [
        "print(len(msg))"
      ],
      "metadata": {
        "id": "oF0hQw4dWQLz"
      },
      "execution_count": null,
      "outputs": []
    },
    {
      "cell_type": "code",
      "source": [
        "res = []\n",
        "for idx, message in enumerate(msg):\n",
        "  if len(message) > 20:\n",
        "    res.append({\n",
        "      'text': message,\n",
        "      'author': 'author-1',\n",
        "      'date': '2023-06-04T10:45:52Z',\n",
        "      'url': f'https://t.me/somechat/1/12456{idx}'\n",
        "    })\n",
        "print(res)\n",
        "print(len(res))"
      ],
      "metadata": {
        "id": "wpP9lt7-YtMn"
      },
      "execution_count": null,
      "outputs": []
    },
    {
      "cell_type": "code",
      "source": [
        "for doc in res:\n",
        "  get_similar_and_store(db_cursor, doc)"
      ],
      "metadata": {
        "id": "DPWKjxtGb2rP"
      },
      "execution_count": null,
      "outputs": []
    }
  ]
}